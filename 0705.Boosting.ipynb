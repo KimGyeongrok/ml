{
 "cells": [
  {
   "cell_type": "code",
   "execution_count": 21,
   "id": "3131d85f",
   "metadata": {
    "ExecuteTime": {
     "end_time": "2022-07-05T01:44:58.542041Z",
     "start_time": "2022-07-05T01:44:58.539189Z"
    }
   },
   "outputs": [],
   "source": [
    "from sklearn.ensemble import GradientBoostingClassifier\n",
    "from sklearn.model_selection import train_test_split\n",
    "from sklearn.datasets import load_iris\n",
    "from sklearn.metrics import accuracy_score"
   ]
  },
  {
   "cell_type": "code",
   "execution_count": 22,
   "id": "4fca562a",
   "metadata": {
    "ExecuteTime": {
     "end_time": "2022-07-05T01:45:00.539555Z",
     "start_time": "2022-07-05T01:45:00.534392Z"
    }
   },
   "outputs": [],
   "source": [
    "iris = load_iris()\n",
    "X_train, X_test, y_train, y_test = train_test_split(iris.data, iris.target, test_size=0.2, random_state=12) "
   ]
  },
  {
   "cell_type": "code",
   "execution_count": 25,
   "id": "004a5311",
   "metadata": {
    "ExecuteTime": {
     "end_time": "2022-07-05T01:45:30.196756Z",
     "start_time": "2022-07-05T01:45:30.014086Z"
    }
   },
   "outputs": [
    {
     "name": "stdout",
     "output_type": "stream",
     "text": [
      "GBM정확도 :0.9666666666666667\n"
     ]
    }
   ],
   "source": [
    "gb_clf = GradientBoostingClassifier(random_state = 0)\n",
    "gb_clf.fit(X_train,y_train)\n",
    "gb_pred = gb_clf.predict(X_test)\n",
    "gb_accuracy = accuracy_score(y_test, gb_pred)\n",
    "\n",
    "print(f'GBM정확도 :{gb_accuracy}')"
   ]
  },
  {
   "cell_type": "code",
   "execution_count": 28,
   "id": "cb67b6cd",
   "metadata": {
    "ExecuteTime": {
     "end_time": "2022-07-05T01:52:47.468725Z",
     "start_time": "2022-07-05T01:52:44.452371Z"
    }
   },
   "outputs": [
    {
     "name": "stdout",
     "output_type": "stream",
     "text": [
      "Fitting 2 folds for each of 4 candidates, totalling 8 fits\n",
      "최적 하이퍼 파라미터:₩n {'learning_rate': 0.05, 'n_estimators': 100}\n",
      "최고 예측 정확도: 0.9250\n"
     ]
    }
   ],
   "source": [
    "from sklearn.model_selection import GridSearchCV\n",
    "\n",
    "params = {\n",
    "    'n_estimators' : [100,500],\n",
    "    'learning_rate' : [0.05, 0.1]\n",
    "}\n",
    "grid_cv = GridSearchCV(gb_clf, param_grid=params, cv=2, verbose=1)\n",
    "grid_cv.fit(X_train, y_train)\n",
    "print('최적 하이퍼 파라미터:₩n', grid_cv.best_params_)\n",
    "print('최고 예측 정확도: {0:.4f}'.format(grid_cv.best_score_))"
   ]
  },
  {
   "cell_type": "code",
   "execution_count": 30,
   "id": "3fa7e40f",
   "metadata": {
    "ExecuteTime": {
     "end_time": "2022-07-05T01:58:28.199868Z",
     "start_time": "2022-07-05T01:58:28.195484Z"
    }
   },
   "outputs": [
    {
     "name": "stdout",
     "output_type": "stream",
     "text": [
      "0.9666666666666667\n"
     ]
    }
   ],
   "source": [
    "pred = grid_cv.predict(X_test)\n",
    "acc = accuracy_score(pred, y_test)\n",
    "print(acc)"
   ]
  },
  {
   "cell_type": "code",
   "execution_count": 29,
   "id": "3d8a0192",
   "metadata": {
    "ExecuteTime": {
     "end_time": "2022-07-05T01:57:48.428799Z",
     "start_time": "2022-07-05T01:57:48.423733Z"
    }
   },
   "outputs": [
    {
     "name": "stdout",
     "output_type": "stream",
     "text": [
      "0.9666666666666667\n"
     ]
    }
   ],
   "source": [
    "pred = grid_cv.best_estimator_.predict(X_test)\n",
    "acc = accuracy_score(pred, y_test)\n",
    "print(acc)"
   ]
  },
  {
   "cell_type": "code",
   "execution_count": 7,
   "id": "0f050cac",
   "metadata": {
    "ExecuteTime": {
     "end_time": "2022-07-05T05:18:02.542021Z",
     "start_time": "2022-07-05T05:18:02.539425Z"
    }
   },
   "outputs": [],
   "source": [
    "import xgboost as xgb"
   ]
  },
  {
   "cell_type": "code",
   "execution_count": 6,
   "id": "78d043eb",
   "metadata": {
    "ExecuteTime": {
     "end_time": "2022-07-05T05:17:37.138597Z",
     "start_time": "2022-07-05T05:17:30.247553Z"
    }
   },
   "outputs": [
    {
     "name": "stdout",
     "output_type": "stream",
     "text": [
      "Collecting xgboost\n",
      "  Using cached xgboost-1.6.1-py3-none-macosx_10_15_x86_64.macosx_11_0_x86_64.macosx_12_0_x86_64.whl (1.7 MB)\n",
      "Requirement already satisfied: scipy in /opt/anaconda3/lib/python3.9/site-packages (from xgboost) (1.7.3)\n",
      "Requirement already satisfied: numpy in /opt/anaconda3/lib/python3.9/site-packages (from xgboost) (1.21.5)\n",
      "Installing collected packages: xgboost\n",
      "Successfully installed xgboost-1.6.1\n"
     ]
    },
    {
     "ename": "NameError",
     "evalue": "name 'X_train' is not defined",
     "output_type": "error",
     "traceback": [
      "\u001b[0;31m---------------------------------------------------------------------------\u001b[0m",
      "\u001b[0;31mNameError\u001b[0m                                 Traceback (most recent call last)",
      "Input \u001b[0;32mIn [6]\u001b[0m, in \u001b[0;36m<cell line: 12>\u001b[0;34m()\u001b[0m\n\u001b[1;32m      9\u001b[0m xgb  \u001b[38;5;241m=\u001b[39m XGBClassifier()\n\u001b[1;32m     11\u001b[0m \u001b[38;5;66;03m# 2. 모델 훈련 fit()함수\u001b[39;00m\n\u001b[0;32m---> 12\u001b[0m xgb\u001b[38;5;241m.\u001b[39mfit(\u001b[43mX_train\u001b[49m, y_train)\n\u001b[1;32m     14\u001b[0m \u001b[38;5;66;03m# 3. 모델 예측 predict()함수\u001b[39;00m\n\u001b[1;32m     15\u001b[0m Y_pred \u001b[38;5;241m=\u001b[39m xgb\u001b[38;5;241m.\u001b[39mpredict(X_test)\n",
      "\u001b[0;31mNameError\u001b[0m: name 'X_train' is not defined"
     ]
    }
   ],
   "source": [
    "import sys\n",
    "!{sys.executable} -m pip install xgboost\n",
    "import xgboost as xgb\n",
    "from xgboost import XGBClassifier\n",
    "\n",
    "# Extreme Gradient Boosting (xgboost) 모델 사용\n",
    "\n",
    "# 1. 모델 선언\n",
    "xgb  = XGBClassifier()\n",
    "\n",
    "# 2. 모델 훈련 fit()함수\n",
    "xgb.fit(X_train, y_train)\n",
    "\n",
    "# 3. 모델 예측 predict()함수\n",
    "Y_pred = xgb.predict(X_test)\n",
    "\n",
    "# 4. score()\n",
    "xgb.score(Y_train, y_train)"
   ]
  },
  {
   "cell_type": "code",
   "execution_count": null,
   "id": "e1db1d73",
   "metadata": {},
   "outputs": [],
   "source": [
    "print(\"hello\")"
   ]
  }
 ],
 "metadata": {
  "kernelspec": {
   "display_name": "Python 3 (ipykernel)",
   "language": "python",
   "name": "python3"
  },
  "language_info": {
   "codemirror_mode": {
    "name": "ipython",
    "version": 3
   },
   "file_extension": ".py",
   "mimetype": "text/x-python",
   "name": "python",
   "nbconvert_exporter": "python",
   "pygments_lexer": "ipython3",
   "version": "3.9.12"
  },
  "toc": {
   "base_numbering": 1,
   "nav_menu": {},
   "number_sections": true,
   "sideBar": true,
   "skip_h1_title": false,
   "title_cell": "Table of Contents",
   "title_sidebar": "Contents",
   "toc_cell": false,
   "toc_position": {},
   "toc_section_display": true,
   "toc_window_display": false
  }
 },
 "nbformat": 4,
 "nbformat_minor": 5
}
