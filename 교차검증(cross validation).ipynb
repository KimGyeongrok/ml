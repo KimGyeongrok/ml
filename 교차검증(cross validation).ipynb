{
 "cells": [
  {
   "cell_type": "markdown",
   "id": "ec8b9c27",
   "metadata": {},
   "source": [
    "### Stratified Fold"
   ]
  },
  {
   "cell_type": "code",
   "execution_count": 6,
   "id": "ab1e0fbd",
   "metadata": {
    "ExecuteTime": {
     "end_time": "2022-06-30T04:21:46.088137Z",
     "start_time": "2022-06-30T04:21:46.071928Z"
    }
   },
   "outputs": [],
   "source": [
    "from sklearn.datasets import load_iris\n",
    "import pandas as pd \n",
    "\n",
    "iris_data = load_iris()\n",
    "iris_data.keys()\n",
    "df = pd.DataFrame(iris_data.data, columns=iris_data.feature_names)\n",
    "df['label'] = iris_data.target"
   ]
  },
  {
   "cell_type": "code",
   "execution_count": 7,
   "id": "46535adf",
   "metadata": {
    "ExecuteTime": {
     "end_time": "2022-06-30T04:22:06.189335Z",
     "start_time": "2022-06-30T04:22:06.175562Z"
    }
   },
   "outputs": [
    {
     "data": {
      "text/plain": [
       "0    50\n",
       "1    50\n",
       "2    50\n",
       "Name: label, dtype: int64"
      ]
     },
     "execution_count": 7,
     "metadata": {},
     "output_type": "execute_result"
    }
   ],
   "source": [
    "df['label'].value_counts()"
   ]
  },
  {
   "cell_type": "code",
   "execution_count": 14,
   "id": "369a3bed",
   "metadata": {
    "ExecuteTime": {
     "end_time": "2022-06-30T04:28:30.774359Z",
     "start_time": "2022-06-30T04:28:30.769329Z"
    }
   },
   "outputs": [
    {
     "ename": "SyntaxError",
     "evalue": "EOL while scanning string literal (1366039656.py, line 11)",
     "output_type": "error",
     "traceback": [
      "\u001b[0;36m  Input \u001b[0;32mIn [14]\u001b[0;36m\u001b[0m\n\u001b[0;31m    print(f'{n_iter} : {label_test.value_counts()})\u001b[0m\n\u001b[0m                                                   ^\u001b[0m\n\u001b[0;31mSyntaxError\u001b[0m\u001b[0;31m:\u001b[0m EOL while scanning string literal\n"
     ]
    }
   ],
   "source": [
    "from sklearn.model_selection import KFold, StratifiedKFold\n",
    "\n",
    "kfold = KFold(n_splits=3)\n",
    "\n",
    "mn_iter = 0\n",
    "for train_index, test_index in kfold.split(features):\n",
    "    n_iter +=1\n",
    "    label_train = df['label'].iloc[train_index]\n",
    "    label_test = df['label'].iloc[test_index] \n",
    "    print(f'{n_iter} : {label_train.value_counts()}₩n')\n",
    "    print(f'{n_iter} : {label_test.value_counts()})"
   ]
  },
  {
   "cell_type": "code",
   "execution_count": null,
   "id": "700a567a",
   "metadata": {},
   "outputs": [],
   "source": []
  },
  {
   "cell_type": "markdown",
   "id": "e795845d",
   "metadata": {},
   "source": [
    "#### cross_val_score\n",
    "- estimator: estimator <br>\n",
    "    학습을 할 모델\n",
    "- x: array <br>\n",
    "    학습시킬 훈련 데이터 세트\n",
    "- y: array<br>\n",
    "   학습시킬 훈련 데이터 세트의 Label\n",
    "- scoring: string or None<br>\n",
    "    각 모델에서 사용할 평가 방법\n",
    "    교차 검증은 utility function을 사용. 그래서 더 큰 값이 좋은 결과라는 의미입니다.<br>\n",
    "    위와 같은 이유로 Regression 모델에서는 MSE를 얻기 위해 주로 'neg_mean_squred_error'값을 사용합니다. (0으로 갈수록 좋은 점수).<br>\n",
    "- cv: int or kfold<br>\n",
    "   : Cross-Validation generator.<br>\n",
    "    Fold의 수를 의미<br>\n",
    "- scores: returns, array\n",
    "    scoring을 사용하여 평가한 점수를 각각 교차 검증을 반복 시마다 기록하여 돌려줌\n",
    "    \n",
    "#### cross_validate()\n",
    ": 다중 평가 지표는 모델을 평가할 때 여러 개의 지표를 사용하여 모델을 평가한다는 의미\n",
    "- cross_val_score와 파라미터는 유사\n",
    "- cross_val_score()와 마찬가지로 scoring 매개변수를 통하여 평가 지표를 지정. 다중 평가 지표를 사용하고자 한다면 리스트로 작성하여 전달, 즉  scoring 매개변수에서 리스트로 여러 평가 지표를 전달\n",
    "- return_train_score: cross_val_score와 다르게 테스트 폴드 점수뿐 아니라 훈련 폴드에 대한 점수를 리턴 할 수 있음. 훈련 폴드의 점수를 받을지 여부를 설정하는 변수\n",
    "\n",
    "#### 차이점\n",
    "cross_validate 함수는 각 검증의 결과로 '학습 시간', '평가 시간', '평가 점수' , '훈련 점수'를 보여주는 함수임.\n",
    "훈련 점수는 함수의 매개 변수 <return_train_score=True>를 추가해주면 함께 확인할 수 있음\n",
    "cross_val_score는 각 검증의 '평가 점수'만을 보여주는 함수이며,간단히 평가 점수만을 확인하고 싶다면 이 함수를 이용할 수 있음."
   ]
  },
  {
   "cell_type": "code",
   "execution_count": null,
   "id": "905233b0",
   "metadata": {},
   "outputs": [],
   "source": []
  }
 ],
 "metadata": {
  "kernelspec": {
   "display_name": "Python 3 (ipykernel)",
   "language": "python",
   "name": "python3"
  },
  "language_info": {
   "codemirror_mode": {
    "name": "ipython",
    "version": 3
   },
   "file_extension": ".py",
   "mimetype": "text/x-python",
   "name": "python",
   "nbconvert_exporter": "python",
   "pygments_lexer": "ipython3",
   "version": "3.9.12"
  },
  "toc": {
   "base_numbering": 1,
   "nav_menu": {},
   "number_sections": true,
   "sideBar": true,
   "skip_h1_title": false,
   "title_cell": "Table of Contents",
   "title_sidebar": "Contents",
   "toc_cell": false,
   "toc_position": {},
   "toc_section_display": true,
   "toc_window_display": false
  }
 },
 "nbformat": 4,
 "nbformat_minor": 5
}
